{
    "nbformat_minor": 1, 
    "cells": [
        {
            "execution_count": null, 
            "cell_type": "code", 
            "metadata": {}, 
            "outputs": [], 
            "source": "import pandas as pd\nimport numpy as np\nimport requests\nimport io\n!conda install -c conda-forge folium=0.5.0 --yes\nimport folium # plotting library\n!conda install -c conda-forge geopy --yes \nfrom geopy.geocoders import Nominatim # module to convert an address into latitude and longitude values"
        }, 
        {
            "execution_count": null, 
            "cell_type": "code", 
            "metadata": {}, 
            "outputs": [], 
            "source": "#URL for Baltimore Crime Data\nBALT_URL = 'https://data.baltimorecity.gov/api/views/wsfq-mvij/rows.csv?accessType=DOWNLOAD'\ns=requests.get(BALT_URL).content\ncrimedata=pd.read_csv(io.StringIO(s.decode('utf-8')))"
        }, 
        {
            "execution_count": null, 
            "cell_type": "code", 
            "metadata": {}, 
            "outputs": [], 
            "source": "crimedata.head()\n"
        }, 
        {
            "execution_count": null, 
            "cell_type": "code", 
            "metadata": {}, 
            "outputs": [], 
            "source": "crimedata.shape"
        }, 
        {
            "execution_count": null, 
            "cell_type": "code", 
            "metadata": {}, 
            "outputs": [], 
            "source": "crimedata = crimedata.dropna(subset=['Longitude', 'Latitude'])"
        }, 
        {
            "execution_count": null, 
            "cell_type": "code", 
            "metadata": {}, 
            "outputs": [], 
            "source": "crimedata.shape"
        }, 
        {
            "execution_count": null, 
            "cell_type": "code", 
            "metadata": {}, 
            "outputs": [], 
            "source": "#Baltimore's Longitude and Latitude\nlatitude = 39.2904\nlongitude = -76.6122"
        }, 
        {
            "execution_count": null, 
            "cell_type": "code", 
            "metadata": {}, 
            "outputs": [], 
            "source": "# Create the map and visualize the boroughs\ncity_map = folium.Map(location=[latitude, longitude], zoom_start=13) #\n\n# add a red circle marker to represent the City Center\nfolium.features.CircleMarker(\n    [latitude, longitude],\n    radius=10,\n    color='red',\n    popup='City Center',\n    fill = True,\n    fill_color = 'red',\n    fill_opacity = 0.6\n).add_to(city_map)\n\n"
        }, 
        {
            "execution_count": null, 
            "cell_type": "code", 
            "metadata": {}, 
            "outputs": [], 
            "source": "# Download GeoJSON file of Baltimore Neighborhoods\nGeoURL = 'https://data.baltimorecity.gov/api/geospatial/5cni-ybar?method=export&format=GeoJSON'\nneighborhood_boundary=requests.get(GeoURL).content\n"
        }, 
        {
            "execution_count": null, 
            "cell_type": "code", 
            "metadata": {}, 
            "outputs": [], 
            "source": "folium.GeoJson(\n    GeoURL,\n    name='geojson'\n).add_to(city_map)"
        }, 
        {
            "execution_count": null, 
            "cell_type": "code", 
            "metadata": {}, 
            "outputs": [], 
            "source": "city_map"
        }, 
        {
            "execution_count": null, 
            "cell_type": "code", 
            "metadata": {}, 
            "outputs": [], 
            "source": "# add the Boroughs as blue circle markers\nfor lat, lng, Borough in zip(crimedata.Latitude, crimedata.Longitude, crimedata.District):\n    folium.features.CircleMarker(\n        [lat, lng],\n        radius=5,\n        color='blue',\n        popup=Borough,\n        fill = True,\n        fill_color='blue',\n        fill_opacity=0.6\n    ).add_to(city_map)\n    \n"
        }
    ], 
    "metadata": {
        "kernelspec": {
            "display_name": "Python 3.6", 
            "name": "python3", 
            "language": "python"
        }, 
        "language_info": {
            "mimetype": "text/x-python", 
            "nbconvert_exporter": "python", 
            "version": "3.6.8", 
            "name": "python", 
            "file_extension": ".py", 
            "pygments_lexer": "ipython3", 
            "codemirror_mode": {
                "version": 3, 
                "name": "ipython"
            }
        }
    }, 
    "nbformat": 4
}